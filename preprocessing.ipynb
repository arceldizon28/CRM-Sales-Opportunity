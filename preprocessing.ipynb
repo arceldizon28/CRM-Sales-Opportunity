{
 "cells": [
  {
   "cell_type": "code",
   "execution_count": 1,
   "id": "e191a566-fda6-4055-ba97-d47e01d365dc",
   "metadata": {},
   "outputs": [],
   "source": [
    "import pandas as pd\n",
    "import numpy as np\n",
    "from dateutil.parser import parse\n",
    "from sklearn import linear_model\n",
    "from sklearn import metrics\n",
    "import matplotlib.pyplot as plot"
   ]
  },
  {
   "cell_type": "markdown",
   "id": "091a5f7b-0bbd-40b8-b8cd-13cdb0ff9a78",
   "metadata": {},
   "source": [
    "# EXTRACTION and EXPLORATION"
   ]
  },
  {
   "cell_type": "code",
   "execution_count": 2,
   "id": "78abe5af-0f25-4c3c-ad32-ef2e2a19e41d",
   "metadata": {},
   "outputs": [],
   "source": [
    "accounts = pd.read_csv(\"accounts.csv\")\n",
    "products = pd.read_csv(\"products.csv\")\n",
    "sales_pipeline = pd.read_csv(\"sales_pipeline.csv\")\n",
    "sales_team = pd.read_csv(\"sales_teams.csv\")"
   ]
  },
  {
   "cell_type": "code",
   "execution_count": 3,
   "id": "7407129a-f287-4a98-b19f-ced6f38f6ef6",
   "metadata": {},
   "outputs": [
    {
     "data": {
      "text/html": [
       "<div>\n",
       "<style scoped>\n",
       "    .dataframe tbody tr th:only-of-type {\n",
       "        vertical-align: middle;\n",
       "    }\n",
       "\n",
       "    .dataframe tbody tr th {\n",
       "        vertical-align: top;\n",
       "    }\n",
       "\n",
       "    .dataframe thead th {\n",
       "        text-align: right;\n",
       "    }\n",
       "</style>\n",
       "<table border=\"1\" class=\"dataframe\">\n",
       "  <thead>\n",
       "    <tr style=\"text-align: right;\">\n",
       "      <th></th>\n",
       "      <th>year_established</th>\n",
       "      <th>revenue</th>\n",
       "      <th>employees</th>\n",
       "    </tr>\n",
       "  </thead>\n",
       "  <tbody>\n",
       "    <tr>\n",
       "      <th>count</th>\n",
       "      <td>85.000000</td>\n",
       "      <td>85.000000</td>\n",
       "      <td>85.000000</td>\n",
       "    </tr>\n",
       "    <tr>\n",
       "      <th>mean</th>\n",
       "      <td>1996.105882</td>\n",
       "      <td>1994.632941</td>\n",
       "      <td>4660.823529</td>\n",
       "    </tr>\n",
       "    <tr>\n",
       "      <th>std</th>\n",
       "      <td>8.865427</td>\n",
       "      <td>2169.491436</td>\n",
       "      <td>5715.601198</td>\n",
       "    </tr>\n",
       "    <tr>\n",
       "      <th>min</th>\n",
       "      <td>1979.000000</td>\n",
       "      <td>4.540000</td>\n",
       "      <td>9.000000</td>\n",
       "    </tr>\n",
       "    <tr>\n",
       "      <th>25%</th>\n",
       "      <td>1989.000000</td>\n",
       "      <td>497.110000</td>\n",
       "      <td>1179.000000</td>\n",
       "    </tr>\n",
       "    <tr>\n",
       "      <th>50%</th>\n",
       "      <td>1996.000000</td>\n",
       "      <td>1223.720000</td>\n",
       "      <td>2769.000000</td>\n",
       "    </tr>\n",
       "    <tr>\n",
       "      <th>75%</th>\n",
       "      <td>2002.000000</td>\n",
       "      <td>2741.370000</td>\n",
       "      <td>5595.000000</td>\n",
       "    </tr>\n",
       "    <tr>\n",
       "      <th>max</th>\n",
       "      <td>2017.000000</td>\n",
       "      <td>11698.030000</td>\n",
       "      <td>34288.000000</td>\n",
       "    </tr>\n",
       "  </tbody>\n",
       "</table>\n",
       "</div>"
      ],
      "text/plain": [
       "       year_established       revenue     employees\n",
       "count         85.000000     85.000000     85.000000\n",
       "mean        1996.105882   1994.632941   4660.823529\n",
       "std            8.865427   2169.491436   5715.601198\n",
       "min         1979.000000      4.540000      9.000000\n",
       "25%         1989.000000    497.110000   1179.000000\n",
       "50%         1996.000000   1223.720000   2769.000000\n",
       "75%         2002.000000   2741.370000   5595.000000\n",
       "max         2017.000000  11698.030000  34288.000000"
      ]
     },
     "execution_count": 3,
     "metadata": {},
     "output_type": "execute_result"
    }
   ],
   "source": [
    "accounts.describe()"
   ]
  },
  {
   "cell_type": "code",
   "execution_count": 4,
   "id": "b2d46274-aff7-496a-9fc2-c0b82a669eb9",
   "metadata": {},
   "outputs": [
    {
     "name": "stdout",
     "output_type": "stream",
     "text": [
      "<class 'pandas.core.frame.DataFrame'>\n",
      "RangeIndex: 85 entries, 0 to 84\n",
      "Data columns (total 7 columns):\n",
      " #   Column            Non-Null Count  Dtype  \n",
      "---  ------            --------------  -----  \n",
      " 0   account           85 non-null     object \n",
      " 1   sector            85 non-null     object \n",
      " 2   year_established  85 non-null     int64  \n",
      " 3   revenue           85 non-null     float64\n",
      " 4   employees         85 non-null     int64  \n",
      " 5   office_location   85 non-null     object \n",
      " 6   subsidiary_of     15 non-null     object \n",
      "dtypes: float64(1), int64(2), object(4)\n",
      "memory usage: 4.8+ KB\n"
     ]
    }
   ],
   "source": [
    "accounts.info()"
   ]
  },
  {
   "cell_type": "code",
   "execution_count": 5,
   "id": "7300966e-6a32-4975-a501-bc82adc37eaf",
   "metadata": {},
   "outputs": [
    {
     "data": {
      "text/plain": [
       "array(['Acme Corporation', 'Betasoloin', 'Betatech', 'Bioholding',\n",
       "       'Bioplex', 'Blackzim', 'Bluth Company', 'Bubba Gump', 'Cancity',\n",
       "       'Cheers', 'Codehow', 'Condax', 'Conecom', 'Dalttechnology',\n",
       "       'dambase', 'Domzoom', 'Doncon', 'Donquadtech', 'Dontechi',\n",
       "       'Donware', 'Fasehatice', 'Faxquote', 'Finhigh', 'Finjob',\n",
       "       'Funholding', 'Ganjaflex', 'Gekko & Co',\n",
       "       'Genco Pura Olive Oil Company', 'Globex Corporation', 'Gogozoom',\n",
       "       'Golddex', 'Goodsilron', 'Green-Plus', 'Groovestreet', 'Hatfan',\n",
       "       'Hottechi', 'Initech', 'Inity', 'Isdom', 'Iselectrics', 'J-Texon',\n",
       "       'Kan-code', 'Kinnamplus', 'Konex', 'Konmatfix', 'Labdrill',\n",
       "       'Lexiqvolax', 'Massive Dynamic', 'Mathtouch', 'Nam-zim', 'Newex',\n",
       "       'Ontomedia', 'Opentech', 'Plexzap', 'Plusstrip', 'Plussunin',\n",
       "       'Rangreen', 'Rantouch', 'Ron-tech', 'Rundofase', 'Scotfind',\n",
       "       'Scottech', 'Silis', 'Singletechno', 'Sonron', 'Stanredtax',\n",
       "       'Statholdings', 'Streethex', 'Sumace', 'Sunnamplex',\n",
       "       'The New York Inquirer', 'Toughzap', 'Treequote',\n",
       "       'Umbrella Corporation', 'Vehement Capital Partners', 'Warephase',\n",
       "       'Xx-holding', 'Xx-zobam', 'Y-corporation', 'Yearin', 'Zathunicon',\n",
       "       'Zencorporation', 'Zoomit', 'Zotware', 'Zumgoity'], dtype=object)"
      ]
     },
     "execution_count": 5,
     "metadata": {},
     "output_type": "execute_result"
    }
   ],
   "source": [
    "accounts[\"account\"].unique()"
   ]
  },
  {
   "cell_type": "code",
   "execution_count": 6,
   "id": "7c7390db-9243-4312-982a-d6f26638063f",
   "metadata": {},
   "outputs": [
    {
     "data": {
      "text/plain": [
       "array(['technolgy', 'medical', 'retail', 'software', 'entertainment',\n",
       "       'marketing', 'telecommunications', 'finance', 'employment',\n",
       "       'services'], dtype=object)"
      ]
     },
     "execution_count": 6,
     "metadata": {},
     "output_type": "execute_result"
    }
   ],
   "source": [
    "accounts[\"sector\"].unique()"
   ]
  },
  {
   "cell_type": "code",
   "execution_count": 7,
   "id": "950963e3-7d31-436a-b2bc-51b9f5bd8210",
   "metadata": {},
   "outputs": [
    {
     "data": {
      "text/plain": [
       "array(['United States', 'Kenya', 'Philipines', 'Japan', 'Italy', 'Norway',\n",
       "       'Korea', 'Jordan', 'Brazil', 'Germany', 'Panama', 'Belgium',\n",
       "       'Romania', 'Poland', 'China'], dtype=object)"
      ]
     },
     "execution_count": 7,
     "metadata": {},
     "output_type": "execute_result"
    }
   ],
   "source": [
    "accounts[\"office_location\"].unique()"
   ]
  },
  {
   "cell_type": "code",
   "execution_count": 8,
   "id": "279fdfb5-e45c-4e70-9d14-bd1e9564fb39",
   "metadata": {},
   "outputs": [
    {
     "data": {
      "text/plain": [
       "array([nan, 'Acme Corporation', 'Massive Dynamic', 'Bubba Gump', 'Inity',\n",
       "       'Sonron', 'Golddex', 'Warephase'], dtype=object)"
      ]
     },
     "execution_count": 8,
     "metadata": {},
     "output_type": "execute_result"
    }
   ],
   "source": [
    "accounts[\"subsidiary_of\"].unique()"
   ]
  },
  {
   "cell_type": "code",
   "execution_count": 9,
   "id": "4167a233-3e57-4260-ad43-b7db3c57a8cc",
   "metadata": {},
   "outputs": [
    {
     "data": {
      "text/html": [
       "<div>\n",
       "<style scoped>\n",
       "    .dataframe tbody tr th:only-of-type {\n",
       "        vertical-align: middle;\n",
       "    }\n",
       "\n",
       "    .dataframe tbody tr th {\n",
       "        vertical-align: top;\n",
       "    }\n",
       "\n",
       "    .dataframe thead th {\n",
       "        text-align: right;\n",
       "    }\n",
       "</style>\n",
       "<table border=\"1\" class=\"dataframe\">\n",
       "  <thead>\n",
       "    <tr style=\"text-align: right;\">\n",
       "      <th></th>\n",
       "      <th>sales_price</th>\n",
       "    </tr>\n",
       "  </thead>\n",
       "  <tbody>\n",
       "    <tr>\n",
       "      <th>count</th>\n",
       "      <td>7.000000</td>\n",
       "    </tr>\n",
       "    <tr>\n",
       "      <th>mean</th>\n",
       "      <td>6023.571429</td>\n",
       "    </tr>\n",
       "    <tr>\n",
       "      <th>std</th>\n",
       "      <td>9388.428070</td>\n",
       "    </tr>\n",
       "    <tr>\n",
       "      <th>min</th>\n",
       "      <td>55.000000</td>\n",
       "    </tr>\n",
       "    <tr>\n",
       "      <th>25%</th>\n",
       "      <td>823.000000</td>\n",
       "    </tr>\n",
       "    <tr>\n",
       "      <th>50%</th>\n",
       "      <td>3393.000000</td>\n",
       "    </tr>\n",
       "    <tr>\n",
       "      <th>75%</th>\n",
       "      <td>5151.500000</td>\n",
       "    </tr>\n",
       "    <tr>\n",
       "      <th>max</th>\n",
       "      <td>26768.000000</td>\n",
       "    </tr>\n",
       "  </tbody>\n",
       "</table>\n",
       "</div>"
      ],
      "text/plain": [
       "        sales_price\n",
       "count      7.000000\n",
       "mean    6023.571429\n",
       "std     9388.428070\n",
       "min       55.000000\n",
       "25%      823.000000\n",
       "50%     3393.000000\n",
       "75%     5151.500000\n",
       "max    26768.000000"
      ]
     },
     "execution_count": 9,
     "metadata": {},
     "output_type": "execute_result"
    }
   ],
   "source": [
    "products.describe()"
   ]
  },
  {
   "cell_type": "code",
   "execution_count": 10,
   "id": "8f2a50b5-e6e2-4a74-8508-fe00c8a6ff4e",
   "metadata": {},
   "outputs": [
    {
     "name": "stdout",
     "output_type": "stream",
     "text": [
      "<class 'pandas.core.frame.DataFrame'>\n",
      "RangeIndex: 7 entries, 0 to 6\n",
      "Data columns (total 3 columns):\n",
      " #   Column       Non-Null Count  Dtype \n",
      "---  ------       --------------  ----- \n",
      " 0   product      7 non-null      object\n",
      " 1   series       7 non-null      object\n",
      " 2   sales_price  7 non-null      int64 \n",
      "dtypes: int64(1), object(2)\n",
      "memory usage: 296.0+ bytes\n"
     ]
    }
   ],
   "source": [
    "products.info()"
   ]
  },
  {
   "cell_type": "code",
   "execution_count": 11,
   "id": "7a66c210-5ad4-40e9-984a-53d9ed8aaae3",
   "metadata": {},
   "outputs": [
    {
     "data": {
      "text/plain": [
       "array(['GTX Basic', 'GTX Pro', 'MG Special', 'MG Advanced',\n",
       "       'GTX Plus Pro', 'GTX Plus Basic', 'GTK 500'], dtype=object)"
      ]
     },
     "execution_count": 11,
     "metadata": {},
     "output_type": "execute_result"
    }
   ],
   "source": [
    "products[\"product\"].unique()"
   ]
  },
  {
   "cell_type": "code",
   "execution_count": 12,
   "id": "e0baf986-0667-473d-9c13-2ff750a16b2e",
   "metadata": {},
   "outputs": [
    {
     "data": {
      "text/plain": [
       "array(['GTX', 'MG', 'GTK'], dtype=object)"
      ]
     },
     "execution_count": 12,
     "metadata": {},
     "output_type": "execute_result"
    }
   ],
   "source": [
    "products[\"series\"].unique()"
   ]
  },
  {
   "cell_type": "code",
   "execution_count": 13,
   "id": "0b2d91e6-c2b4-4b05-8aca-8c64cd8188d5",
   "metadata": {},
   "outputs": [
    {
     "name": "stdout",
     "output_type": "stream",
     "text": [
      "<class 'pandas.core.frame.DataFrame'>\n",
      "RangeIndex: 8800 entries, 0 to 8799\n",
      "Data columns (total 8 columns):\n",
      " #   Column          Non-Null Count  Dtype  \n",
      "---  ------          --------------  -----  \n",
      " 0   opportunity_id  8800 non-null   object \n",
      " 1   sales_agent     8800 non-null   object \n",
      " 2   product         8800 non-null   object \n",
      " 3   account         7375 non-null   object \n",
      " 4   deal_stage      8800 non-null   object \n",
      " 5   engage_date     8300 non-null   object \n",
      " 6   close_date      6711 non-null   object \n",
      " 7   close_value     6711 non-null   float64\n",
      "dtypes: float64(1), object(7)\n",
      "memory usage: 550.1+ KB\n"
     ]
    }
   ],
   "source": [
    "sales_pipeline.info()"
   ]
  },
  {
   "cell_type": "code",
   "execution_count": 14,
   "id": "3122d656-bdc6-4ca2-b60c-df4694a068d1",
   "metadata": {},
   "outputs": [
    {
     "data": {
      "text/html": [
       "<div>\n",
       "<style scoped>\n",
       "    .dataframe tbody tr th:only-of-type {\n",
       "        vertical-align: middle;\n",
       "    }\n",
       "\n",
       "    .dataframe tbody tr th {\n",
       "        vertical-align: top;\n",
       "    }\n",
       "\n",
       "    .dataframe thead th {\n",
       "        text-align: right;\n",
       "    }\n",
       "</style>\n",
       "<table border=\"1\" class=\"dataframe\">\n",
       "  <thead>\n",
       "    <tr style=\"text-align: right;\">\n",
       "      <th></th>\n",
       "      <th>close_value</th>\n",
       "    </tr>\n",
       "  </thead>\n",
       "  <tbody>\n",
       "    <tr>\n",
       "      <th>count</th>\n",
       "      <td>6711.000000</td>\n",
       "    </tr>\n",
       "    <tr>\n",
       "      <th>mean</th>\n",
       "      <td>1490.915512</td>\n",
       "    </tr>\n",
       "    <tr>\n",
       "      <th>std</th>\n",
       "      <td>2320.670773</td>\n",
       "    </tr>\n",
       "    <tr>\n",
       "      <th>min</th>\n",
       "      <td>0.000000</td>\n",
       "    </tr>\n",
       "    <tr>\n",
       "      <th>25%</th>\n",
       "      <td>0.000000</td>\n",
       "    </tr>\n",
       "    <tr>\n",
       "      <th>50%</th>\n",
       "      <td>472.000000</td>\n",
       "    </tr>\n",
       "    <tr>\n",
       "      <th>75%</th>\n",
       "      <td>3225.000000</td>\n",
       "    </tr>\n",
       "    <tr>\n",
       "      <th>max</th>\n",
       "      <td>30288.000000</td>\n",
       "    </tr>\n",
       "  </tbody>\n",
       "</table>\n",
       "</div>"
      ],
      "text/plain": [
       "        close_value\n",
       "count   6711.000000\n",
       "mean    1490.915512\n",
       "std     2320.670773\n",
       "min        0.000000\n",
       "25%        0.000000\n",
       "50%      472.000000\n",
       "75%     3225.000000\n",
       "max    30288.000000"
      ]
     },
     "execution_count": 14,
     "metadata": {},
     "output_type": "execute_result"
    }
   ],
   "source": [
    "sales_pipeline.describe()"
   ]
  },
  {
   "cell_type": "code",
   "execution_count": 15,
   "id": "153361ac-bed6-4c9c-9a16-29539ae42fc9",
   "metadata": {},
   "outputs": [
    {
     "data": {
      "text/plain": [
       "sales_agent\n",
       "Darcel Schlecht       747\n",
       "Vicki Laflamme        451\n",
       "Anna Snelling         448\n",
       "Kary Hendrixson       438\n",
       "Kami Bicknell         362\n",
       "Versie Hillebrand     361\n",
       "Zane Levy             349\n",
       "Cassey Cress          346\n",
       "Jonathan Berthelot    345\n",
       "Gladys Colclough      317\n",
       "Lajuana Vencill       311\n",
       "Corliss Cosme         310\n",
       "Markita Hansen        306\n",
       "Maureen Marcano       285\n",
       "Marty Freudenburg     281\n",
       "Donn Cantrell         275\n",
       "James Ascencio        267\n",
       "Violet Mclelland      261\n",
       "Moses Frase           260\n",
       "Daniell Hammack       259\n",
       "Niesha Huffines       239\n",
       "Reed Clapper          237\n",
       "Boris Faz             210\n",
       "Cecily Lampkin        203\n",
       "Hayden Neloms         202\n",
       "Elease Gluck          177\n",
       "Rosie Papadopoulos    160\n",
       "Rosalina Dieter       160\n",
       "Garret Kinder         123\n",
       "Wilburn Farren        110\n",
       "Name: count, dtype: int64"
      ]
     },
     "execution_count": 15,
     "metadata": {},
     "output_type": "execute_result"
    }
   ],
   "source": [
    "sales_pipeline[\"sales_agent\"].value_counts()"
   ]
  },
  {
   "cell_type": "code",
   "execution_count": 16,
   "id": "56a6cf04-73be-4018-a3db-071b11aa0d32",
   "metadata": {},
   "outputs": [
    {
     "data": {
      "text/plain": [
       "product\n",
       "GTX Basic         1866\n",
       "MG Special        1651\n",
       "GTXPro            1480\n",
       "MG Advanced       1412\n",
       "GTX Plus Basic    1383\n",
       "GTX Plus Pro       968\n",
       "GTK 500             40\n",
       "Name: count, dtype: int64"
      ]
     },
     "execution_count": 16,
     "metadata": {},
     "output_type": "execute_result"
    }
   ],
   "source": [
    "sales_pipeline[\"product\"].value_counts()"
   ]
  },
  {
   "cell_type": "code",
   "execution_count": 17,
   "id": "bede17d5-77a7-4cb0-9bf7-766e658bb8fa",
   "metadata": {},
   "outputs": [
    {
     "data": {
      "text/plain": [
       "account\n",
       "Hottechi                 200\n",
       "Kan-code                 196\n",
       "Konex                    178\n",
       "Condax                   170\n",
       "Dontechi                 129\n",
       "                        ... \n",
       "Newex                     55\n",
       "Bioplex                   53\n",
       "The New York Inquirer     52\n",
       "Sumace                    52\n",
       "Iselectrics               51\n",
       "Name: count, Length: 85, dtype: int64"
      ]
     },
     "execution_count": 17,
     "metadata": {},
     "output_type": "execute_result"
    }
   ],
   "source": [
    "sales_pipeline[\"account\"].value_counts()"
   ]
  },
  {
   "cell_type": "code",
   "execution_count": 18,
   "id": "87a7c715-c08d-423c-a696-517c1c046985",
   "metadata": {},
   "outputs": [
    {
     "data": {
      "text/plain": [
       "deal_stage\n",
       "Won            4238\n",
       "Lost           2473\n",
       "Engaging       1589\n",
       "Prospecting     500\n",
       "Name: count, dtype: int64"
      ]
     },
     "execution_count": 18,
     "metadata": {},
     "output_type": "execute_result"
    }
   ],
   "source": [
    "sales_pipeline[\"deal_stage\"].value_counts()"
   ]
  },
  {
   "cell_type": "code",
   "execution_count": 19,
   "id": "2611f4b0-aa62-40bc-bb93-ecadf841c0c0",
   "metadata": {},
   "outputs": [
    {
     "name": "stdout",
     "output_type": "stream",
     "text": [
      "<class 'pandas.core.frame.DataFrame'>\n",
      "RangeIndex: 35 entries, 0 to 34\n",
      "Data columns (total 3 columns):\n",
      " #   Column           Non-Null Count  Dtype \n",
      "---  ------           --------------  ----- \n",
      " 0   sales_agent      35 non-null     object\n",
      " 1   manager          35 non-null     object\n",
      " 2   regional_office  35 non-null     object\n",
      "dtypes: object(3)\n",
      "memory usage: 968.0+ bytes\n"
     ]
    }
   ],
   "source": [
    "sales_team.info()"
   ]
  },
  {
   "cell_type": "code",
   "execution_count": 20,
   "id": "355d93f5-af85-4d59-b8e3-6ab3c7d25b5b",
   "metadata": {},
   "outputs": [
    {
     "data": {
      "text/plain": [
       "array(['Anna Snelling', 'Cecily Lampkin', 'Versie Hillebrand',\n",
       "       'Lajuana Vencill', 'Moses Frase', 'Jonathan Berthelot',\n",
       "       'Marty Freudenburg', 'Gladys Colclough', 'Niesha Huffines',\n",
       "       'Darcel Schlecht', 'Mei-Mei Johns', 'Violet Mclelland',\n",
       "       'Corliss Cosme', 'Rosie Papadopoulos', 'Garret Kinder',\n",
       "       'Wilburn Farren', 'Elizabeth Anderson', 'Daniell Hammack',\n",
       "       'Cassey Cress', 'Donn Cantrell', 'Reed Clapper', 'Boris Faz',\n",
       "       'Natalya Ivanova', 'Vicki Laflamme', 'Rosalina Dieter',\n",
       "       'Hayden Neloms', 'Markita Hansen', 'Elease Gluck',\n",
       "       'Carol Thompson', 'James Ascencio', 'Kary Hendrixson',\n",
       "       'Kami Bicknell', 'Zane Levy', 'Maureen Marcano', 'Carl Lin'],\n",
       "      dtype=object)"
      ]
     },
     "execution_count": 20,
     "metadata": {},
     "output_type": "execute_result"
    }
   ],
   "source": [
    "sales_team[\"sales_agent\"].unique()"
   ]
  },
  {
   "cell_type": "code",
   "execution_count": 21,
   "id": "661da693-554f-430b-b8e2-588a93233ea4",
   "metadata": {},
   "outputs": [
    {
     "data": {
      "text/plain": [
       "array(['Dustin Brinkmann', 'Melvin Marxen', 'Cara Losch', 'Rocco Neubert',\n",
       "       'Celia Rouche', 'Summer Sewald'], dtype=object)"
      ]
     },
     "execution_count": 21,
     "metadata": {},
     "output_type": "execute_result"
    }
   ],
   "source": [
    "sales_team[\"manager\"].unique()"
   ]
  },
  {
   "cell_type": "code",
   "execution_count": 22,
   "id": "0beaf802-0acb-4182-b0d6-8eddf2a4813a",
   "metadata": {},
   "outputs": [
    {
     "data": {
      "text/plain": [
       "manager\n",
       "Melvin Marxen       6\n",
       "Cara Losch          6\n",
       "Rocco Neubert       6\n",
       "Celia Rouche        6\n",
       "Summer Sewald       6\n",
       "Dustin Brinkmann    5\n",
       "Name: count, dtype: int64"
      ]
     },
     "execution_count": 22,
     "metadata": {},
     "output_type": "execute_result"
    }
   ],
   "source": [
    "sales_team[\"manager\"].value_counts()"
   ]
  },
  {
   "cell_type": "code",
   "execution_count": 23,
   "id": "f90cba45-c642-4046-85e6-79382415be0d",
   "metadata": {},
   "outputs": [
    {
     "data": {
      "text/plain": [
       "regional_office\n",
       "East       12\n",
       "West       12\n",
       "Central    11\n",
       "Name: count, dtype: int64"
      ]
     },
     "execution_count": 23,
     "metadata": {},
     "output_type": "execute_result"
    }
   ],
   "source": [
    "sales_team[\"regional_office\"].value_counts()"
   ]
  },
  {
   "cell_type": "markdown",
   "id": "b8de5b9a-a6e9-4929-ae6d-5813d66b3b43",
   "metadata": {},
   "source": [
    "# TRANSFORMATION"
   ]
  },
  {
   "cell_type": "markdown",
   "id": "d2dee729-dfb0-41b7-9167-5db4f5a0ab5d",
   "metadata": {},
   "source": [
    "- the dataset is clean. some dates are null purposely because the transaction has not engaged yet, usually still in prospecting stage"
   ]
  },
  {
   "cell_type": "markdown",
   "id": "19be6776-ae46-4853-979c-b6749813a3a0",
   "metadata": {},
   "source": [
    "## database normalization\n",
    "### to do:\n",
    "- rename employees to employee count on accounts table\n",
    "- sales team: add id on sales team table because sales pipeline references it\n",
    "- products: add id on products table because sales pipeline references it\n",
    "- accoutns: add id on accoutns table because sales pipeline references it\n",
    "- map and rename columns of sales pipeline table accordingly"
   ]
  },
  {
   "cell_type": "code",
   "execution_count": 24,
   "id": "d0886b7c-4e09-4fa3-bcd8-fd48b2c0aa33",
   "metadata": {},
   "outputs": [],
   "source": [
    "accounts = accounts.rename(columns={\"employees\":\"employee_count\"})"
   ]
  },
  {
   "cell_type": "code",
   "execution_count": 25,
   "id": "79b40403-f380-480a-89cb-7dd6cd534bed",
   "metadata": {},
   "outputs": [
    {
     "data": {
      "text/html": [
       "<div>\n",
       "<style scoped>\n",
       "    .dataframe tbody tr th:only-of-type {\n",
       "        vertical-align: middle;\n",
       "    }\n",
       "\n",
       "    .dataframe tbody tr th {\n",
       "        vertical-align: top;\n",
       "    }\n",
       "\n",
       "    .dataframe thead th {\n",
       "        text-align: right;\n",
       "    }\n",
       "</style>\n",
       "<table border=\"1\" class=\"dataframe\">\n",
       "  <thead>\n",
       "    <tr style=\"text-align: right;\">\n",
       "      <th></th>\n",
       "      <th>sales_agent_id</th>\n",
       "      <th>sales_agent</th>\n",
       "      <th>manager</th>\n",
       "      <th>regional_office</th>\n",
       "    </tr>\n",
       "  </thead>\n",
       "  <tbody>\n",
       "    <tr>\n",
       "      <th>0</th>\n",
       "      <td>0</td>\n",
       "      <td>Anna Snelling</td>\n",
       "      <td>Dustin Brinkmann</td>\n",
       "      <td>Central</td>\n",
       "    </tr>\n",
       "    <tr>\n",
       "      <th>1</th>\n",
       "      <td>1</td>\n",
       "      <td>Cecily Lampkin</td>\n",
       "      <td>Dustin Brinkmann</td>\n",
       "      <td>Central</td>\n",
       "    </tr>\n",
       "    <tr>\n",
       "      <th>2</th>\n",
       "      <td>2</td>\n",
       "      <td>Versie Hillebrand</td>\n",
       "      <td>Dustin Brinkmann</td>\n",
       "      <td>Central</td>\n",
       "    </tr>\n",
       "    <tr>\n",
       "      <th>3</th>\n",
       "      <td>3</td>\n",
       "      <td>Lajuana Vencill</td>\n",
       "      <td>Dustin Brinkmann</td>\n",
       "      <td>Central</td>\n",
       "    </tr>\n",
       "    <tr>\n",
       "      <th>4</th>\n",
       "      <td>4</td>\n",
       "      <td>Moses Frase</td>\n",
       "      <td>Dustin Brinkmann</td>\n",
       "      <td>Central</td>\n",
       "    </tr>\n",
       "    <tr>\n",
       "      <th>5</th>\n",
       "      <td>5</td>\n",
       "      <td>Jonathan Berthelot</td>\n",
       "      <td>Melvin Marxen</td>\n",
       "      <td>Central</td>\n",
       "    </tr>\n",
       "    <tr>\n",
       "      <th>6</th>\n",
       "      <td>6</td>\n",
       "      <td>Marty Freudenburg</td>\n",
       "      <td>Melvin Marxen</td>\n",
       "      <td>Central</td>\n",
       "    </tr>\n",
       "    <tr>\n",
       "      <th>7</th>\n",
       "      <td>7</td>\n",
       "      <td>Gladys Colclough</td>\n",
       "      <td>Melvin Marxen</td>\n",
       "      <td>Central</td>\n",
       "    </tr>\n",
       "    <tr>\n",
       "      <th>8</th>\n",
       "      <td>8</td>\n",
       "      <td>Niesha Huffines</td>\n",
       "      <td>Melvin Marxen</td>\n",
       "      <td>Central</td>\n",
       "    </tr>\n",
       "    <tr>\n",
       "      <th>9</th>\n",
       "      <td>9</td>\n",
       "      <td>Darcel Schlecht</td>\n",
       "      <td>Melvin Marxen</td>\n",
       "      <td>Central</td>\n",
       "    </tr>\n",
       "    <tr>\n",
       "      <th>10</th>\n",
       "      <td>10</td>\n",
       "      <td>Mei-Mei Johns</td>\n",
       "      <td>Melvin Marxen</td>\n",
       "      <td>Central</td>\n",
       "    </tr>\n",
       "    <tr>\n",
       "      <th>11</th>\n",
       "      <td>11</td>\n",
       "      <td>Violet Mclelland</td>\n",
       "      <td>Cara Losch</td>\n",
       "      <td>East</td>\n",
       "    </tr>\n",
       "    <tr>\n",
       "      <th>12</th>\n",
       "      <td>12</td>\n",
       "      <td>Corliss Cosme</td>\n",
       "      <td>Cara Losch</td>\n",
       "      <td>East</td>\n",
       "    </tr>\n",
       "    <tr>\n",
       "      <th>13</th>\n",
       "      <td>13</td>\n",
       "      <td>Rosie Papadopoulos</td>\n",
       "      <td>Cara Losch</td>\n",
       "      <td>East</td>\n",
       "    </tr>\n",
       "    <tr>\n",
       "      <th>14</th>\n",
       "      <td>14</td>\n",
       "      <td>Garret Kinder</td>\n",
       "      <td>Cara Losch</td>\n",
       "      <td>East</td>\n",
       "    </tr>\n",
       "    <tr>\n",
       "      <th>15</th>\n",
       "      <td>15</td>\n",
       "      <td>Wilburn Farren</td>\n",
       "      <td>Cara Losch</td>\n",
       "      <td>East</td>\n",
       "    </tr>\n",
       "    <tr>\n",
       "      <th>16</th>\n",
       "      <td>16</td>\n",
       "      <td>Elizabeth Anderson</td>\n",
       "      <td>Cara Losch</td>\n",
       "      <td>East</td>\n",
       "    </tr>\n",
       "    <tr>\n",
       "      <th>17</th>\n",
       "      <td>17</td>\n",
       "      <td>Daniell Hammack</td>\n",
       "      <td>Rocco Neubert</td>\n",
       "      <td>East</td>\n",
       "    </tr>\n",
       "    <tr>\n",
       "      <th>18</th>\n",
       "      <td>18</td>\n",
       "      <td>Cassey Cress</td>\n",
       "      <td>Rocco Neubert</td>\n",
       "      <td>East</td>\n",
       "    </tr>\n",
       "    <tr>\n",
       "      <th>19</th>\n",
       "      <td>19</td>\n",
       "      <td>Donn Cantrell</td>\n",
       "      <td>Rocco Neubert</td>\n",
       "      <td>East</td>\n",
       "    </tr>\n",
       "    <tr>\n",
       "      <th>20</th>\n",
       "      <td>20</td>\n",
       "      <td>Reed Clapper</td>\n",
       "      <td>Rocco Neubert</td>\n",
       "      <td>East</td>\n",
       "    </tr>\n",
       "    <tr>\n",
       "      <th>21</th>\n",
       "      <td>21</td>\n",
       "      <td>Boris Faz</td>\n",
       "      <td>Rocco Neubert</td>\n",
       "      <td>East</td>\n",
       "    </tr>\n",
       "    <tr>\n",
       "      <th>22</th>\n",
       "      <td>22</td>\n",
       "      <td>Natalya Ivanova</td>\n",
       "      <td>Rocco Neubert</td>\n",
       "      <td>East</td>\n",
       "    </tr>\n",
       "    <tr>\n",
       "      <th>23</th>\n",
       "      <td>23</td>\n",
       "      <td>Vicki Laflamme</td>\n",
       "      <td>Celia Rouche</td>\n",
       "      <td>West</td>\n",
       "    </tr>\n",
       "    <tr>\n",
       "      <th>24</th>\n",
       "      <td>24</td>\n",
       "      <td>Rosalina Dieter</td>\n",
       "      <td>Celia Rouche</td>\n",
       "      <td>West</td>\n",
       "    </tr>\n",
       "    <tr>\n",
       "      <th>25</th>\n",
       "      <td>25</td>\n",
       "      <td>Hayden Neloms</td>\n",
       "      <td>Celia Rouche</td>\n",
       "      <td>West</td>\n",
       "    </tr>\n",
       "    <tr>\n",
       "      <th>26</th>\n",
       "      <td>26</td>\n",
       "      <td>Markita Hansen</td>\n",
       "      <td>Celia Rouche</td>\n",
       "      <td>West</td>\n",
       "    </tr>\n",
       "    <tr>\n",
       "      <th>27</th>\n",
       "      <td>27</td>\n",
       "      <td>Elease Gluck</td>\n",
       "      <td>Celia Rouche</td>\n",
       "      <td>West</td>\n",
       "    </tr>\n",
       "    <tr>\n",
       "      <th>28</th>\n",
       "      <td>28</td>\n",
       "      <td>Carol Thompson</td>\n",
       "      <td>Celia Rouche</td>\n",
       "      <td>West</td>\n",
       "    </tr>\n",
       "    <tr>\n",
       "      <th>29</th>\n",
       "      <td>29</td>\n",
       "      <td>James Ascencio</td>\n",
       "      <td>Summer Sewald</td>\n",
       "      <td>West</td>\n",
       "    </tr>\n",
       "    <tr>\n",
       "      <th>30</th>\n",
       "      <td>30</td>\n",
       "      <td>Kary Hendrixson</td>\n",
       "      <td>Summer Sewald</td>\n",
       "      <td>West</td>\n",
       "    </tr>\n",
       "    <tr>\n",
       "      <th>31</th>\n",
       "      <td>31</td>\n",
       "      <td>Kami Bicknell</td>\n",
       "      <td>Summer Sewald</td>\n",
       "      <td>West</td>\n",
       "    </tr>\n",
       "    <tr>\n",
       "      <th>32</th>\n",
       "      <td>32</td>\n",
       "      <td>Zane Levy</td>\n",
       "      <td>Summer Sewald</td>\n",
       "      <td>West</td>\n",
       "    </tr>\n",
       "    <tr>\n",
       "      <th>33</th>\n",
       "      <td>33</td>\n",
       "      <td>Maureen Marcano</td>\n",
       "      <td>Summer Sewald</td>\n",
       "      <td>West</td>\n",
       "    </tr>\n",
       "    <tr>\n",
       "      <th>34</th>\n",
       "      <td>34</td>\n",
       "      <td>Carl Lin</td>\n",
       "      <td>Summer Sewald</td>\n",
       "      <td>West</td>\n",
       "    </tr>\n",
       "  </tbody>\n",
       "</table>\n",
       "</div>"
      ],
      "text/plain": [
       "    sales_agent_id         sales_agent           manager regional_office\n",
       "0                0       Anna Snelling  Dustin Brinkmann         Central\n",
       "1                1      Cecily Lampkin  Dustin Brinkmann         Central\n",
       "2                2   Versie Hillebrand  Dustin Brinkmann         Central\n",
       "3                3     Lajuana Vencill  Dustin Brinkmann         Central\n",
       "4                4         Moses Frase  Dustin Brinkmann         Central\n",
       "5                5  Jonathan Berthelot     Melvin Marxen         Central\n",
       "6                6   Marty Freudenburg     Melvin Marxen         Central\n",
       "7                7    Gladys Colclough     Melvin Marxen         Central\n",
       "8                8     Niesha Huffines     Melvin Marxen         Central\n",
       "9                9     Darcel Schlecht     Melvin Marxen         Central\n",
       "10              10       Mei-Mei Johns     Melvin Marxen         Central\n",
       "11              11    Violet Mclelland        Cara Losch            East\n",
       "12              12       Corliss Cosme        Cara Losch            East\n",
       "13              13  Rosie Papadopoulos        Cara Losch            East\n",
       "14              14       Garret Kinder        Cara Losch            East\n",
       "15              15      Wilburn Farren        Cara Losch            East\n",
       "16              16  Elizabeth Anderson        Cara Losch            East\n",
       "17              17     Daniell Hammack     Rocco Neubert            East\n",
       "18              18        Cassey Cress     Rocco Neubert            East\n",
       "19              19       Donn Cantrell     Rocco Neubert            East\n",
       "20              20        Reed Clapper     Rocco Neubert            East\n",
       "21              21           Boris Faz     Rocco Neubert            East\n",
       "22              22     Natalya Ivanova     Rocco Neubert            East\n",
       "23              23      Vicki Laflamme      Celia Rouche            West\n",
       "24              24     Rosalina Dieter      Celia Rouche            West\n",
       "25              25       Hayden Neloms      Celia Rouche            West\n",
       "26              26      Markita Hansen      Celia Rouche            West\n",
       "27              27        Elease Gluck      Celia Rouche            West\n",
       "28              28      Carol Thompson      Celia Rouche            West\n",
       "29              29      James Ascencio     Summer Sewald            West\n",
       "30              30     Kary Hendrixson     Summer Sewald            West\n",
       "31              31       Kami Bicknell     Summer Sewald            West\n",
       "32              32           Zane Levy     Summer Sewald            West\n",
       "33              33     Maureen Marcano     Summer Sewald            West\n",
       "34              34            Carl Lin     Summer Sewald            West"
      ]
     },
     "execution_count": 25,
     "metadata": {},
     "output_type": "execute_result"
    }
   ],
   "source": [
    "sales_team2 = pd.DataFrame({\"sales_agent_id\":range(len(sales_team))}) # initialize new sales team table with id\n",
    "sales_team2 = pd.concat([sales_team2, sales_team], axis=1)\n",
    "sales_team2"
   ]
  },
  {
   "cell_type": "code",
   "execution_count": 26,
   "id": "6ad01175-ee19-48a7-a31e-18dddb107e4c",
   "metadata": {},
   "outputs": [
    {
     "data": {
      "text/html": [
       "<div>\n",
       "<style scoped>\n",
       "    .dataframe tbody tr th:only-of-type {\n",
       "        vertical-align: middle;\n",
       "    }\n",
       "\n",
       "    .dataframe tbody tr th {\n",
       "        vertical-align: top;\n",
       "    }\n",
       "\n",
       "    .dataframe thead th {\n",
       "        text-align: right;\n",
       "    }\n",
       "</style>\n",
       "<table border=\"1\" class=\"dataframe\">\n",
       "  <thead>\n",
       "    <tr style=\"text-align: right;\">\n",
       "      <th></th>\n",
       "      <th>product_id</th>\n",
       "      <th>product</th>\n",
       "      <th>series</th>\n",
       "      <th>sales_price</th>\n",
       "    </tr>\n",
       "  </thead>\n",
       "  <tbody>\n",
       "    <tr>\n",
       "      <th>0</th>\n",
       "      <td>0</td>\n",
       "      <td>GTX Basic</td>\n",
       "      <td>GTX</td>\n",
       "      <td>550</td>\n",
       "    </tr>\n",
       "    <tr>\n",
       "      <th>1</th>\n",
       "      <td>1</td>\n",
       "      <td>GTX Pro</td>\n",
       "      <td>GTX</td>\n",
       "      <td>4821</td>\n",
       "    </tr>\n",
       "    <tr>\n",
       "      <th>2</th>\n",
       "      <td>2</td>\n",
       "      <td>MG Special</td>\n",
       "      <td>MG</td>\n",
       "      <td>55</td>\n",
       "    </tr>\n",
       "    <tr>\n",
       "      <th>3</th>\n",
       "      <td>3</td>\n",
       "      <td>MG Advanced</td>\n",
       "      <td>MG</td>\n",
       "      <td>3393</td>\n",
       "    </tr>\n",
       "    <tr>\n",
       "      <th>4</th>\n",
       "      <td>4</td>\n",
       "      <td>GTX Plus Pro</td>\n",
       "      <td>GTX</td>\n",
       "      <td>5482</td>\n",
       "    </tr>\n",
       "    <tr>\n",
       "      <th>5</th>\n",
       "      <td>5</td>\n",
       "      <td>GTX Plus Basic</td>\n",
       "      <td>GTX</td>\n",
       "      <td>1096</td>\n",
       "    </tr>\n",
       "    <tr>\n",
       "      <th>6</th>\n",
       "      <td>6</td>\n",
       "      <td>GTK 500</td>\n",
       "      <td>GTK</td>\n",
       "      <td>26768</td>\n",
       "    </tr>\n",
       "  </tbody>\n",
       "</table>\n",
       "</div>"
      ],
      "text/plain": [
       "   product_id         product series  sales_price\n",
       "0           0       GTX Basic    GTX          550\n",
       "1           1         GTX Pro    GTX         4821\n",
       "2           2      MG Special     MG           55\n",
       "3           3     MG Advanced     MG         3393\n",
       "4           4    GTX Plus Pro    GTX         5482\n",
       "5           5  GTX Plus Basic    GTX         1096\n",
       "6           6         GTK 500    GTK        26768"
      ]
     },
     "execution_count": 26,
     "metadata": {},
     "output_type": "execute_result"
    }
   ],
   "source": [
    "products2 = pd.DataFrame({\"product_id\":range(len(products))})\n",
    "products2 = pd.concat([products2, products], axis=1)\n",
    "products2"
   ]
  },
  {
   "cell_type": "code",
   "execution_count": 27,
   "id": "8ec9b53d-7fcf-4585-9f90-a3682cf28afc",
   "metadata": {},
   "outputs": [
    {
     "data": {
      "text/html": [
       "<div>\n",
       "<style scoped>\n",
       "    .dataframe tbody tr th:only-of-type {\n",
       "        vertical-align: middle;\n",
       "    }\n",
       "\n",
       "    .dataframe tbody tr th {\n",
       "        vertical-align: top;\n",
       "    }\n",
       "\n",
       "    .dataframe thead th {\n",
       "        text-align: right;\n",
       "    }\n",
       "</style>\n",
       "<table border=\"1\" class=\"dataframe\">\n",
       "  <thead>\n",
       "    <tr style=\"text-align: right;\">\n",
       "      <th></th>\n",
       "      <th>account_id</th>\n",
       "      <th>account</th>\n",
       "      <th>sector</th>\n",
       "      <th>year_established</th>\n",
       "      <th>revenue</th>\n",
       "      <th>employee_count</th>\n",
       "      <th>office_location</th>\n",
       "      <th>subsidiary_of</th>\n",
       "    </tr>\n",
       "  </thead>\n",
       "  <tbody>\n",
       "    <tr>\n",
       "      <th>0</th>\n",
       "      <td>0</td>\n",
       "      <td>Acme Corporation</td>\n",
       "      <td>technolgy</td>\n",
       "      <td>1996</td>\n",
       "      <td>1100.04</td>\n",
       "      <td>2822</td>\n",
       "      <td>United States</td>\n",
       "      <td>NaN</td>\n",
       "    </tr>\n",
       "    <tr>\n",
       "      <th>1</th>\n",
       "      <td>1</td>\n",
       "      <td>Betasoloin</td>\n",
       "      <td>medical</td>\n",
       "      <td>1999</td>\n",
       "      <td>251.41</td>\n",
       "      <td>495</td>\n",
       "      <td>United States</td>\n",
       "      <td>NaN</td>\n",
       "    </tr>\n",
       "    <tr>\n",
       "      <th>2</th>\n",
       "      <td>2</td>\n",
       "      <td>Betatech</td>\n",
       "      <td>medical</td>\n",
       "      <td>1986</td>\n",
       "      <td>647.18</td>\n",
       "      <td>1185</td>\n",
       "      <td>Kenya</td>\n",
       "      <td>NaN</td>\n",
       "    </tr>\n",
       "    <tr>\n",
       "      <th>3</th>\n",
       "      <td>3</td>\n",
       "      <td>Bioholding</td>\n",
       "      <td>medical</td>\n",
       "      <td>2012</td>\n",
       "      <td>587.34</td>\n",
       "      <td>1356</td>\n",
       "      <td>Philipines</td>\n",
       "      <td>NaN</td>\n",
       "    </tr>\n",
       "    <tr>\n",
       "      <th>4</th>\n",
       "      <td>4</td>\n",
       "      <td>Bioplex</td>\n",
       "      <td>medical</td>\n",
       "      <td>1991</td>\n",
       "      <td>326.82</td>\n",
       "      <td>1016</td>\n",
       "      <td>United States</td>\n",
       "      <td>NaN</td>\n",
       "    </tr>\n",
       "    <tr>\n",
       "      <th>...</th>\n",
       "      <td>...</td>\n",
       "      <td>...</td>\n",
       "      <td>...</td>\n",
       "      <td>...</td>\n",
       "      <td>...</td>\n",
       "      <td>...</td>\n",
       "      <td>...</td>\n",
       "      <td>...</td>\n",
       "    </tr>\n",
       "    <tr>\n",
       "      <th>80</th>\n",
       "      <td>80</td>\n",
       "      <td>Zathunicon</td>\n",
       "      <td>retail</td>\n",
       "      <td>2010</td>\n",
       "      <td>71.12</td>\n",
       "      <td>144</td>\n",
       "      <td>United States</td>\n",
       "      <td>NaN</td>\n",
       "    </tr>\n",
       "    <tr>\n",
       "      <th>81</th>\n",
       "      <td>81</td>\n",
       "      <td>Zencorporation</td>\n",
       "      <td>technolgy</td>\n",
       "      <td>2011</td>\n",
       "      <td>40.79</td>\n",
       "      <td>142</td>\n",
       "      <td>China</td>\n",
       "      <td>NaN</td>\n",
       "    </tr>\n",
       "    <tr>\n",
       "      <th>82</th>\n",
       "      <td>82</td>\n",
       "      <td>Zoomit</td>\n",
       "      <td>entertainment</td>\n",
       "      <td>1992</td>\n",
       "      <td>324.19</td>\n",
       "      <td>978</td>\n",
       "      <td>United States</td>\n",
       "      <td>NaN</td>\n",
       "    </tr>\n",
       "    <tr>\n",
       "      <th>83</th>\n",
       "      <td>83</td>\n",
       "      <td>Zotware</td>\n",
       "      <td>software</td>\n",
       "      <td>1979</td>\n",
       "      <td>4478.47</td>\n",
       "      <td>13809</td>\n",
       "      <td>United States</td>\n",
       "      <td>NaN</td>\n",
       "    </tr>\n",
       "    <tr>\n",
       "      <th>84</th>\n",
       "      <td>84</td>\n",
       "      <td>Zumgoity</td>\n",
       "      <td>medical</td>\n",
       "      <td>1984</td>\n",
       "      <td>441.08</td>\n",
       "      <td>1210</td>\n",
       "      <td>United States</td>\n",
       "      <td>NaN</td>\n",
       "    </tr>\n",
       "  </tbody>\n",
       "</table>\n",
       "<p>85 rows × 8 columns</p>\n",
       "</div>"
      ],
      "text/plain": [
       "    account_id           account         sector  year_established  revenue  \\\n",
       "0            0  Acme Corporation      technolgy              1996  1100.04   \n",
       "1            1        Betasoloin        medical              1999   251.41   \n",
       "2            2          Betatech        medical              1986   647.18   \n",
       "3            3        Bioholding        medical              2012   587.34   \n",
       "4            4           Bioplex        medical              1991   326.82   \n",
       "..         ...               ...            ...               ...      ...   \n",
       "80          80        Zathunicon         retail              2010    71.12   \n",
       "81          81    Zencorporation      technolgy              2011    40.79   \n",
       "82          82            Zoomit  entertainment              1992   324.19   \n",
       "83          83           Zotware       software              1979  4478.47   \n",
       "84          84          Zumgoity        medical              1984   441.08   \n",
       "\n",
       "    employee_count office_location subsidiary_of  \n",
       "0             2822   United States           NaN  \n",
       "1              495   United States           NaN  \n",
       "2             1185           Kenya           NaN  \n",
       "3             1356      Philipines           NaN  \n",
       "4             1016   United States           NaN  \n",
       "..             ...             ...           ...  \n",
       "80             144   United States           NaN  \n",
       "81             142           China           NaN  \n",
       "82             978   United States           NaN  \n",
       "83           13809   United States           NaN  \n",
       "84            1210   United States           NaN  \n",
       "\n",
       "[85 rows x 8 columns]"
      ]
     },
     "execution_count": 27,
     "metadata": {},
     "output_type": "execute_result"
    }
   ],
   "source": [
    "accounts2 = pd.DataFrame({\"account_id\":range(len(accounts))})\n",
    "accounts2 = pd.concat([accounts2, accounts], axis=1)\n",
    "accounts2"
   ]
  },
  {
   "cell_type": "code",
   "execution_count": 28,
   "id": "5d2b88a7-489f-4c38-8f8a-9f25f1a1b607",
   "metadata": {},
   "outputs": [],
   "source": [
    "# map pipeline references to table with new id\n",
    "for index in sales_pipeline.index:\n",
    "    # get referenced account\n",
    "    ref_acc = sales_pipeline.loc[index, \"account\"]\n",
    "    # get equivalent account id\n",
    "    if (len(accounts2.query(\"account == @ref_acc\")) != 0):\n",
    "        acc_id = accounts2.query(\"account == @ref_acc\")[\"account_id\"].values[0]\n",
    "        # assign account id\n",
    "        sales_pipeline.loc[index, \"account\"] = acc_id\n",
    "\n",
    "    # get referenced product\n",
    "    ref_prod = sales_pipeline.loc[index, \"product\"]\n",
    "    # get equivalent product id\n",
    "    if (len(products2.query(\"product == @ref_prod\")) != 0):\n",
    "        prod_id = products2.query(\"product == @ref_prod\")[\"product_id\"].values[0]\n",
    "        # assign product id\n",
    "        sales_pipeline.loc[index, \"product\"] = prod_id\n",
    "\n",
    "    # get referenced sales agent\n",
    "    ref_agent = sales_pipeline.loc[index, \"sales_agent\"]\n",
    "    # get equivalent sales agent id\n",
    "    if (len(sales_team2.query(\"sales_agent == @ref_agent\")) != 0):\n",
    "        agent_id = sales_team2.query(\"sales_agent == @ref_agent\")[\"sales_agent_id\"].values[0]\n",
    "        # assign account id\n",
    "        sales_pipeline.loc[index, \"sales_agent\"] = agent_id"
   ]
  },
  {
   "cell_type": "code",
   "execution_count": 29,
   "id": "d214ce50-df20-4ab0-a9a3-43613f3c21a7",
   "metadata": {},
   "outputs": [
    {
     "data": {
      "text/html": [
       "<div>\n",
       "<style scoped>\n",
       "    .dataframe tbody tr th:only-of-type {\n",
       "        vertical-align: middle;\n",
       "    }\n",
       "\n",
       "    .dataframe tbody tr th {\n",
       "        vertical-align: top;\n",
       "    }\n",
       "\n",
       "    .dataframe thead th {\n",
       "        text-align: right;\n",
       "    }\n",
       "</style>\n",
       "<table border=\"1\" class=\"dataframe\">\n",
       "  <thead>\n",
       "    <tr style=\"text-align: right;\">\n",
       "      <th></th>\n",
       "      <th>opportunity_id</th>\n",
       "      <th>sales_agent</th>\n",
       "      <th>product</th>\n",
       "      <th>account</th>\n",
       "      <th>deal_stage</th>\n",
       "      <th>engage_date</th>\n",
       "      <th>close_date</th>\n",
       "      <th>close_value</th>\n",
       "    </tr>\n",
       "  </thead>\n",
       "  <tbody>\n",
       "    <tr>\n",
       "      <th>0</th>\n",
       "      <td>1C1I7A6R</td>\n",
       "      <td>4</td>\n",
       "      <td>5</td>\n",
       "      <td>8</td>\n",
       "      <td>Won</td>\n",
       "      <td>2016-10-20</td>\n",
       "      <td>2017-03-01</td>\n",
       "      <td>1054.0</td>\n",
       "    </tr>\n",
       "    <tr>\n",
       "      <th>1</th>\n",
       "      <td>Z063OYW0</td>\n",
       "      <td>9</td>\n",
       "      <td>GTXPro</td>\n",
       "      <td>38</td>\n",
       "      <td>Won</td>\n",
       "      <td>2016-10-25</td>\n",
       "      <td>2017-03-11</td>\n",
       "      <td>4514.0</td>\n",
       "    </tr>\n",
       "    <tr>\n",
       "      <th>2</th>\n",
       "      <td>EC4QE1BX</td>\n",
       "      <td>9</td>\n",
       "      <td>2</td>\n",
       "      <td>8</td>\n",
       "      <td>Won</td>\n",
       "      <td>2016-10-25</td>\n",
       "      <td>2017-03-07</td>\n",
       "      <td>50.0</td>\n",
       "    </tr>\n",
       "    <tr>\n",
       "      <th>3</th>\n",
       "      <td>MV1LWRNH</td>\n",
       "      <td>4</td>\n",
       "      <td>0</td>\n",
       "      <td>10</td>\n",
       "      <td>Won</td>\n",
       "      <td>2016-10-25</td>\n",
       "      <td>2017-03-09</td>\n",
       "      <td>588.0</td>\n",
       "    </tr>\n",
       "    <tr>\n",
       "      <th>4</th>\n",
       "      <td>PE84CX4O</td>\n",
       "      <td>32</td>\n",
       "      <td>0</td>\n",
       "      <td>34</td>\n",
       "      <td>Won</td>\n",
       "      <td>2016-10-25</td>\n",
       "      <td>2017-03-02</td>\n",
       "      <td>517.0</td>\n",
       "    </tr>\n",
       "    <tr>\n",
       "      <th>...</th>\n",
       "      <td>...</td>\n",
       "      <td>...</td>\n",
       "      <td>...</td>\n",
       "      <td>...</td>\n",
       "      <td>...</td>\n",
       "      <td>...</td>\n",
       "      <td>...</td>\n",
       "      <td>...</td>\n",
       "    </tr>\n",
       "    <tr>\n",
       "      <th>8795</th>\n",
       "      <td>9MIWFW5J</td>\n",
       "      <td>2</td>\n",
       "      <td>3</td>\n",
       "      <td>NaN</td>\n",
       "      <td>Prospecting</td>\n",
       "      <td>NaN</td>\n",
       "      <td>NaN</td>\n",
       "      <td>NaN</td>\n",
       "    </tr>\n",
       "    <tr>\n",
       "      <th>8796</th>\n",
       "      <td>6SLKZ8FI</td>\n",
       "      <td>2</td>\n",
       "      <td>3</td>\n",
       "      <td>NaN</td>\n",
       "      <td>Prospecting</td>\n",
       "      <td>NaN</td>\n",
       "      <td>NaN</td>\n",
       "      <td>NaN</td>\n",
       "    </tr>\n",
       "    <tr>\n",
       "      <th>8797</th>\n",
       "      <td>LIB4KUZJ</td>\n",
       "      <td>2</td>\n",
       "      <td>3</td>\n",
       "      <td>NaN</td>\n",
       "      <td>Prospecting</td>\n",
       "      <td>NaN</td>\n",
       "      <td>NaN</td>\n",
       "      <td>NaN</td>\n",
       "    </tr>\n",
       "    <tr>\n",
       "      <th>8798</th>\n",
       "      <td>18IUIUK0</td>\n",
       "      <td>2</td>\n",
       "      <td>3</td>\n",
       "      <td>NaN</td>\n",
       "      <td>Prospecting</td>\n",
       "      <td>NaN</td>\n",
       "      <td>NaN</td>\n",
       "      <td>NaN</td>\n",
       "    </tr>\n",
       "    <tr>\n",
       "      <th>8799</th>\n",
       "      <td>8I5ONXJX</td>\n",
       "      <td>2</td>\n",
       "      <td>3</td>\n",
       "      <td>NaN</td>\n",
       "      <td>Prospecting</td>\n",
       "      <td>NaN</td>\n",
       "      <td>NaN</td>\n",
       "      <td>NaN</td>\n",
       "    </tr>\n",
       "  </tbody>\n",
       "</table>\n",
       "<p>8800 rows × 8 columns</p>\n",
       "</div>"
      ],
      "text/plain": [
       "     opportunity_id sales_agent product account   deal_stage engage_date  \\\n",
       "0          1C1I7A6R           4       5       8          Won  2016-10-20   \n",
       "1          Z063OYW0           9  GTXPro      38          Won  2016-10-25   \n",
       "2          EC4QE1BX           9       2       8          Won  2016-10-25   \n",
       "3          MV1LWRNH           4       0      10          Won  2016-10-25   \n",
       "4          PE84CX4O          32       0      34          Won  2016-10-25   \n",
       "...             ...         ...     ...     ...          ...         ...   \n",
       "8795       9MIWFW5J           2       3     NaN  Prospecting         NaN   \n",
       "8796       6SLKZ8FI           2       3     NaN  Prospecting         NaN   \n",
       "8797       LIB4KUZJ           2       3     NaN  Prospecting         NaN   \n",
       "8798       18IUIUK0           2       3     NaN  Prospecting         NaN   \n",
       "8799       8I5ONXJX           2       3     NaN  Prospecting         NaN   \n",
       "\n",
       "      close_date  close_value  \n",
       "0     2017-03-01       1054.0  \n",
       "1     2017-03-11       4514.0  \n",
       "2     2017-03-07         50.0  \n",
       "3     2017-03-09        588.0  \n",
       "4     2017-03-02        517.0  \n",
       "...          ...          ...  \n",
       "8795         NaN          NaN  \n",
       "8796         NaN          NaN  \n",
       "8797         NaN          NaN  \n",
       "8798         NaN          NaN  \n",
       "8799         NaN          NaN  \n",
       "\n",
       "[8800 rows x 8 columns]"
      ]
     },
     "execution_count": 29,
     "metadata": {},
     "output_type": "execute_result"
    }
   ],
   "source": [
    "sales_pipeline"
   ]
  },
  {
   "cell_type": "code",
   "execution_count": 30,
   "id": "c5153bf0-20bb-40dc-af69-ae915bf298a6",
   "metadata": {},
   "outputs": [
    {
     "name": "stdout",
     "output_type": "stream",
     "text": [
      "[4 9 32 0 23 26 8 29 7 33 25 24 2 17 27 11 31 13 30 20 15 14 6 18 3 21 19\n",
      " 12 1 5]\n",
      "[5 'GTXPro' 2 0 3 4 6]\n",
      "[8 38 10 34 58 40 9 84 nan 3 27 69 64 23 60 72 77 57 20 74 75 82 25 45 83\n",
      " 14 76 0 32 70 48 29 65 44 12 30 53 59 22 24 52 62 31 56 41 49 78 4 54 71\n",
      " 13 51 42 46 66 73 7 21 18 43 1 15 17 28 55 11 47 16 61 26 36 63 79 80 2 5\n",
      " 35 37 68 81 33 19 67 39 50 6]\n"
     ]
    }
   ],
   "source": [
    "# check for remaining values unreferenced\n",
    "print(sales_pipeline[\"sales_agent\"].unique())\n",
    "print(sales_pipeline[\"product\"].unique())\n",
    "print(sales_pipeline[\"account\"].unique())"
   ]
  },
  {
   "cell_type": "code",
   "execution_count": 31,
   "id": "635464d8-c869-41d0-bb62-85031aa9c3d0",
   "metadata": {},
   "outputs": [],
   "source": [
    "# replace GTXPro with appropriate ID from the products table\n",
    "sales_pipeline[\"product\"] = sales_pipeline[\"product\"].replace(\"GTXPro\", \"1\")"
   ]
  },
  {
   "cell_type": "code",
   "execution_count": 32,
   "id": "5b9d451a-d16a-47a7-ada2-6bffe3d34706",
   "metadata": {},
   "outputs": [],
   "source": [
    "# rename columns to indicate id\n",
    "sales_pipeline = sales_pipeline.rename(columns={\"sales_agent\":\"sales_agent_id\", \"product\":\"product_id\", \"account\":\"account_id\"})"
   ]
  },
  {
   "cell_type": "markdown",
   "id": "ae00c347-a0fe-446c-bb80-92628864cedc",
   "metadata": {},
   "source": [
    "# LOADING"
   ]
  },
  {
   "cell_type": "code",
   "execution_count": 33,
   "id": "222e8d15-1f4c-4717-a02f-8a30ade0770f",
   "metadata": {},
   "outputs": [],
   "source": [
    "accounts2.to_csv(r\"preprocessed tables\\accounts.csv\", index=False)\n",
    "products2.to_csv(r\"preprocessed tables\\products.csv\", index=False)\n",
    "sales_team2.to_csv(r\"preprocessed tables\\sales_team.csv\", index=False)\n",
    "sales_pipeline.to_csv(r\"preprocessed tables\\sales_pipeline.csv\", index=False)"
   ]
  },
  {
   "cell_type": "markdown",
   "id": "1e9ee6cf-af3b-462a-8836-00efa77b7373",
   "metadata": {},
   "source": [
    "- done via MySQL Workbench"
   ]
  },
  {
   "cell_type": "markdown",
   "id": "1a679c74-2b60-4e09-b4cd-3ff690b0aa32",
   "metadata": {},
   "source": [
    "# PREDICTIVE MODELING"
   ]
  },
  {
   "cell_type": "code",
   "execution_count": 3,
   "id": "3d25d339-7386-4c22-9742-24b1092baba5",
   "metadata": {},
   "outputs": [],
   "source": [
    "import pandas as pd"
   ]
  },
  {
   "cell_type": "code",
   "execution_count": 4,
   "id": "7473643a-d9bd-4735-a454-1a16f533f84d",
   "metadata": {},
   "outputs": [],
   "source": [
    "accounts = pd.read_csv(r\"preprocessed tables\\accounts.csv\")\n",
    "products = pd.read_csv(r\"preprocessed tables\\products.csv\")\n",
    "sales_team = pd.read_csv(r\"preprocessed tables\\sales_team.csv\")\n",
    "sales_pipeline = pd.read_csv(r\"preprocessed tables\\sales_pipeline.csv\")"
   ]
  },
  {
   "cell_type": "code",
   "execution_count": null,
   "id": "51f034e2-6663-4151-94e3-3a32de011f47",
   "metadata": {},
   "outputs": [],
   "source": []
  }
 ],
 "metadata": {
  "kernelspec": {
   "display_name": "Python 3 (ipykernel)",
   "language": "python",
   "name": "python3"
  },
  "language_info": {
   "codemirror_mode": {
    "name": "ipython",
    "version": 3
   },
   "file_extension": ".py",
   "mimetype": "text/x-python",
   "name": "python",
   "nbconvert_exporter": "python",
   "pygments_lexer": "ipython3",
   "version": "3.10.7"
  }
 },
 "nbformat": 4,
 "nbformat_minor": 5
}
